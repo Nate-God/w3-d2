{
 "cells": [
  {
   "cell_type": "markdown",
   "metadata": {},
   "source": [
    "#### Exercise 1 - Class Inheritance"
   ]
  },
  {
   "cell_type": "markdown",
   "metadata": {},
   "source": [
    "Create an Employee class that sets an employee's first name, last name, job title, salary, and email. The Employee class should have a class attribute for the raise amount set to 5% (1.05). Create a method that will apply the raise to an employee's salary."
   ]
  },
  {
   "cell_type": "code",
   "execution_count": 1,
   "metadata": {},
   "outputs": [],
   "source": [
    "# Write the Employee Parent Class Here\n",
    "\n",
    "class Employee:\n",
    "    \n",
    "    def __init__(self, first_name, last_name, job, salary, email):\n",
    "        self.first_name = first_name\n",
    "        self.last_name = last_name\n",
    "        self.job = job\n",
    "        self.salary = float(salary)\n",
    "        self.email = email\n",
    "        self.raise_amount = 1.05\n",
    "    def raise_sal(self):\n",
    "        self.salary = float(\"{0:.2f}\".format(self.salary*self.raise_amount))"
   ]
  },
  {
   "cell_type": "markdown",
   "metadata": {},
   "source": [
    "Create two more classes that inherit from the Employee class. One for Sales and one for Development. Both of these classes will have the same attributes as the Employee.<br>\n",
    "- For the Sales employees, add a phone number attribute on instantiation using the super method. \n",
    "- Create a method on the Sales class that will \"Send a Follow Up Email\". It should take in a customer name and \"send\" aka print a formatted email \"Dear *customer*, Thank you for your interest in our product. Please let me know if you have any questions. My email is *email* or my phone number is *phone number*. Thanks, *full name*\"\n",
    "- Create a method on the Development class called code that will print out \"*full name* is writing code\"."
   ]
  },
  {
   "cell_type": "code",
   "execution_count": 2,
   "metadata": {},
   "outputs": [],
   "source": [
    "# Write the Sales child Class Here\n",
    "\n",
    "class Sales(Employee):\n",
    "    def __init__(self, first_name, last_name, job, salary, email, phone_number):\n",
    "        super().__init__(first_name, last_name, job, salary, email)\n",
    "        self.phone_number = phone_number\n",
    "    \n",
    "    def send_a_follow_up_email(self, customer_name):\n",
    "        print(f\"Dear {customer_name}, Thank you for your interest in our product. Please let me know if you have any questions. My email is {self.email} or my phone number is {self.phone_number}. Thanks, {self.first_name} {self.last_name}\")\n",
    "        \n",
    "\n",
    "\n",
    "\n",
    "# Write the Development child Class Here\n",
    "class Development(Employee):\n",
    "    def __init__(self, first_name, last_name, job, salary, email):\n",
    "        super().__init__(first_name, last_name, job, salary, email)\n",
    "    \n",
    "    def code(self):\n",
    "        print(f\"{self.first_name} {self.last_name} is writing code\")\n"
   ]
  },
  {
   "cell_type": "markdown",
   "metadata": {},
   "source": [
    "- Create an instance of a Sales Employee with a salary of $50,000.\n",
    "- Send follow up emails to \"Mike O'Neil\" and \"Hannah Stern\"\n",
    "- Give the employee a raise and print the salary"
   ]
  },
  {
   "cell_type": "code",
   "execution_count": 3,
   "metadata": {},
   "outputs": [],
   "source": [
    "# Create the instance\n",
    "jack = Sales(\"Jack\", \"Reacher\", \"Sales\", \"50000\", \"Jack.Reacher@JackReacher.com\", \"(747) 777-7777\")"
   ]
  },
  {
   "cell_type": "code",
   "execution_count": 4,
   "metadata": {},
   "outputs": [
    {
     "name": "stdout",
     "output_type": "stream",
     "text": [
      "Dear Mike, Thank you for your interest in our product. Please let me know if you have any questions. My email is Jack.Reacher@JackReacher.com or my phone number is (747) 777-7777. Thanks, Jack Reacher\n"
     ]
    }
   ],
   "source": [
    "# Send follow up to Mike\n",
    "jack.send_a_follow_up_email(\"Mike\")"
   ]
  },
  {
   "cell_type": "code",
   "execution_count": 5,
   "metadata": {},
   "outputs": [
    {
     "name": "stdout",
     "output_type": "stream",
     "text": [
      "Dear Hannah, Thank you for your interest in our product. Please let me know if you have any questions. My email is Jack.Reacher@JackReacher.com or my phone number is (747) 777-7777. Thanks, Jack Reacher\n"
     ]
    }
   ],
   "source": [
    "# Send follow up to Hannah\n",
    "jack.send_a_follow_up_email(\"Hannah\")"
   ]
  },
  {
   "cell_type": "code",
   "execution_count": 13,
   "metadata": {},
   "outputs": [
    {
     "name": "stdout",
     "output_type": "stream",
     "text": [
      "63814.08\n"
     ]
    }
   ],
   "source": [
    "# Give the sales employee a raise\n",
    "jack.raise_sal()\n",
    "print(jack.salary)"
   ]
  },
  {
   "cell_type": "markdown",
   "metadata": {},
   "source": [
    "- Create an instance of a Development Employee with a salary of $100,000\n",
    "- Write some code with this employee\n",
    "- Give the employee a raise and print the salary"
   ]
  },
  {
   "cell_type": "code",
   "execution_count": 7,
   "metadata": {},
   "outputs": [],
   "source": [
    "# Create the instance\n",
    "john = Development(\"John\", \"Doe\", \"Dev\", \"50000\", \"n0b0dy@JackReacher.com\")"
   ]
  },
  {
   "cell_type": "code",
   "execution_count": 8,
   "metadata": {},
   "outputs": [
    {
     "name": "stdout",
     "output_type": "stream",
     "text": [
      "John Doe is writing code\n"
     ]
    }
   ],
   "source": [
    "# Write some code (call code method)\n",
    "john.code()"
   ]
  },
  {
   "cell_type": "code",
   "execution_count": 9,
   "metadata": {},
   "outputs": [
    {
     "name": "stdout",
     "output_type": "stream",
     "text": [
      "52500.0\n"
     ]
    }
   ],
   "source": [
    "# Give the dev employee a raise\n",
    "john.raise_sal()\n",
    "print(john.salary)"
   ]
  },
  {
   "cell_type": "markdown",
   "metadata": {},
   "source": [
    "#### Exercise 2 - Importing Modules"
   ]
  },
  {
   "cell_type": "markdown",
   "metadata": {},
   "source": [
    "In VS Code, create a module titled `geometry` and add two functions in there. One that will calculate the area of a circle given a radius. The second will find the hypotenuse of a right angle given the two sides. Import the module or the functions from the module and use it to find the answers to the below questions"
   ]
  },
  {
   "cell_type": "markdown",
   "metadata": {},
   "source": [
    "What is the area of a circle with a radius of 7cm?"
   ]
  },
  {
   "cell_type": "code",
   "execution_count": null,
   "metadata": {},
   "outputs": [],
   "source": []
  },
  {
   "cell_type": "markdown",
   "metadata": {},
   "source": [
    "What is the hypotenuse of a right angle with sides of 3in and 4in?"
   ]
  },
  {
   "cell_type": "code",
   "execution_count": null,
   "metadata": {},
   "outputs": [],
   "source": []
  }
 ],
 "metadata": {
  "kernelspec": {
   "display_name": "Python 3 (ipykernel)",
   "language": "python",
   "name": "python3"
  },
  "language_info": {
   "codemirror_mode": {
    "name": "ipython",
    "version": 3
   },
   "file_extension": ".py",
   "mimetype": "text/x-python",
   "name": "python",
   "nbconvert_exporter": "python",
   "pygments_lexer": "ipython3",
   "version": "3.11.5"
  }
 },
 "nbformat": 4,
 "nbformat_minor": 4
}
